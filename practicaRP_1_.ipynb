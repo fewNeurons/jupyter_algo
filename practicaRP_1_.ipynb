{
  "cells": [
    {
      "cell_type": "markdown",
      "metadata": {
        "id": "01ymwDMoPpuy"
      },
      "source": [
        "<h1 align=\"center\">Las N-reinas en un tablero ponderado</h1>\n",
        "<h3 style=\"display:block; margin-top:5px;\" align=\"center\">(Ramificación y Poda)</h3>\n",
        "<h3 style=\"display:block; margin-top:5px;\" align=\"center\">Algorítmica</h3>\n",
        "<h3 style=\"display:block; margin-top:5px;\" align=\"center\">2021-2022</h3>    \n",
        "<h3 style=\"display:block; margin-top:5px;\" align=\"center\">Universitat Politècnica de València</h3>\n",
        "<br>"
      ]
    },
    {
      "cell_type": "markdown",
      "metadata": {
        "id": "Ivz1CMbsPpu1"
      },
      "source": [
        "**Pon/poned aquí tú/vuestros nombre(s):**\n",
        "- Luis García Zaldivar\n",
        "- Ferran Ramírez Martí"
      ]
    },
    {
      "cell_type": "code",
      "source": [
        ""
      ],
      "metadata": {
        "id": "9NcB2ZGRQRFr"
      },
      "execution_count": null,
      "outputs": []
    },
    {
      "cell_type": "markdown",
      "metadata": {
        "id": "F7dH92MkPpu3"
      },
      "source": [
        "## Índice\n",
        "1. ### [Descripción del problema](#introduccion)\n",
        "1. ### [Actividad 1: Función de ramificación](#actividad1)\n",
        "1. ### [Actividad 2: Cotas optimistas](#actividad2)\n",
        "1. ### [Actividad 3: Comprobar que funciona](#actividad3)\n",
        "1. ### [Actividad 4: Estudio experimental](#actividad4)\n"
      ]
    },
    {
      "cell_type": "markdown",
      "metadata": {
        "id": "wnhZBOd5Ppu4"
      },
      "source": [
        "<a id='introduccion'></a>"
      ]
    },
    {
      "cell_type": "markdown",
      "metadata": {
        "id": "0GX2hNSWPpu5"
      },
      "source": [
        "<a id='actividad1'></a>"
      ]
    },
    {
      "cell_type": "markdown",
      "metadata": {
        "id": "eIwkNVmiPpu7"
      },
      "source": [
        "# Descripción del problema\n",
        "\n",
        "## Las N-reinas en un tablero ponderado\n",
        "\n",
        "En esta práctica de **dos sesiones** vamos a resolver mediante\n",
        "ramificación y poda o *branch and bound* una variante del problema de\n",
        "las $N$-reinas que ya hemos estudiado cuando vimos búsqueda con\n",
        "retroceso o *backtracking*.\n",
        "\n",
        "- En el problema **original** nuestro objetivo era situar $N$\n",
        "  reinas en un tablero de $N \\times N$ de modo que no se amenacen\n",
        "  entre sí, sabiendo que cada reina se puede mover en horizontal,\n",
        "  en vertical o en diagonal a cualquier distancia.\n",
        "\n",
        "- En la variante con **tablero ponderado** vamos a suponer que cada\n",
        "  casilla del tablero está etiquetada con un peso no negativo. El\n",
        "  objetivo es encontrar la solución que, siendo válida en la variante\n",
        "  original, **minimice la suma de pesos de las casillas ocupadas**.\n",
        "  \n",
        "Por tanto, la variante estudiada en esta práctica es claramente un\n",
        "problema de **optimización**."
      ]
    },
    {
      "cell_type": "markdown",
      "metadata": {
        "id": "mxwvJM47Ppu9"
      },
      "source": [
        "## Optimización vs satisfacción de restricciones\n",
        "\n",
        "El problema original también es (trivialmente) un problema de\n",
        "optimización si consideramos que el valor booleano cierto es mayor que\n",
        "el falso. No obstante, en el problema original cualquier solución\n",
        "factible es tan óptima como cualquier otra, cosa que no ocurre en\n",
        "general en la nueva variante propuesta.\n"
      ]
    },
    {
      "cell_type": "markdown",
      "metadata": {
        "id": "rf2Wk3NlPpu_"
      },
      "source": [
        "## Generación de instancias aleatorias\n",
        "\n",
        "Vamos a utilizar `numpy` para generar una matriz de pesos aleatorios para un tablero de $N \\times N$:"
      ]
    },
    {
      "cell_type": "code",
      "execution_count": null,
      "metadata": {
        "id": "hQGWOUy4PpvA"
      },
      "outputs": [],
      "source": [
        "import numpy as np\n",
        "def genera_instancia(N, low=0, high=1000):\n",
        "    return np.random.randint(low=low,high=high,\n",
        "                             size=(N,N),dtype=np.int)"
      ]
    },
    {
      "cell_type": "markdown",
      "metadata": {
        "id": "f-KjOJpZPpvD"
      },
      "source": [
        "Veamos un ejemplo con un tablero de 8x8 (como el del ajedrez):"
      ]
    },
    {
      "cell_type": "code",
      "execution_count": null,
      "metadata": {
        "colab": {
          "base_uri": "https://localhost:8080/"
        },
        "id": "L62EaIAjPpvD",
        "outputId": "5c6da1f6-b02d-4a0c-f6fa-1826b9a4f671"
      },
      "outputs": [
        {
          "output_type": "execute_result",
          "data": {
            "text/plain": [
              "array([[870, 679, 968, 323, 270, 289, 486, 281],\n",
              "       [148, 933, 233, 511, 273, 498,   4, 479],\n",
              "       [272, 411, 488, 482, 553, 857, 528, 451],\n",
              "       [389,  89,  17, 312, 697, 591, 650, 538],\n",
              "       [381, 384, 504, 913,  60, 503, 931, 731],\n",
              "       [456, 608, 552,  83,  64, 511, 171, 371],\n",
              "       [230, 166, 109, 716, 481,  73, 672, 502],\n",
              "       [142, 256, 382,  32, 189, 699, 920, 699]])"
            ]
          },
          "metadata": {},
          "execution_count": 6
        }
      ],
      "source": [
        "test = genera_instancia(8)\n",
        "test"
      ]
    },
    {
      "cell_type": "markdown",
      "metadata": {
        "id": "RdufPcBcPpvF"
      },
      "source": [
        "### Representación de los estados\n",
        "\n",
        "La formalización básica del problema ampliado es idéntico al problema\n",
        "original: \n",
        "\n",
        "- Vamos a ir situando las reinas *columna por columna* de izquierda a derecha, de modo que una solución parcial será de la forma: $[s_0, s_1, \\ldots, s_k]$\n",
        "donde $s_i$ indica en qué fila (de $0$ a $N-1$) está la reina de la columna $i$-ésima (las columnas numeradas también de $0$ a $N-1$).\n",
        "\n",
        "- El estado inicial será la lista vacía $[ \\  ]$.\n",
        "\n",
        "- Un estado $[s_0, s_1, \\ldots, s_k]$ será terminal si $k == N-1$ o, equivalentemente, si `len(`$[s_0, s_1, \\ldots, s_k]$`) == N`."
      ]
    },
    {
      "cell_type": "markdown",
      "metadata": {
        "id": "B9JoTni1PpvG"
      },
      "source": [
        "### Función para evaluar una solución\n",
        "\n",
        "La siguiente función recibe una solución (dada como una lista Python con la fila a la que pertenece la reina de cada columna, *exactamente igual que en las N-reinas original*) y devuelve la suma de los pesos de las casillas ocupadas por las reinas:"
      ]
    },
    {
      "cell_type": "code",
      "execution_count": null,
      "metadata": {
        "id": "dFFGY5yEPpvH"
      },
      "outputs": [],
      "source": [
        "def evaluate(s,weights):\n",
        "    return sum(weights[row,col] for col,row in enumerate(s))"
      ]
    },
    {
      "cell_type": "markdown",
      "metadata": {
        "id": "LViUEOH8PpvI"
      },
      "source": [
        "## Primera aproximación *casi* por fuerza bruta\n",
        "\n",
        "En el código que se os proporciona hemos utilizado la versión de\n",
        "búsqueda con retroceso o *backtracking* en la variante que encuentra\n",
        "todas las soluciones. Cada vez que encuentra una solución la evalúa y se queda con la mejor hasta el momento.\n",
        "\n",
        "A pesar de llamarse `bruteforce` no es la peor forma, hay formas de fuerza bruta más ineficientes. De todas formas, no aprovecha los valores del tablero durante la búsqueda, por lo que es de esperar que sea mejorable por otras aproximaciones, pero nos servirá para comparar:"
      ]
    },
    {
      "cell_type": "code",
      "execution_count": null,
      "metadata": {
        "id": "XcQ9sNXxPpvK"
      },
      "outputs": [],
      "source": [
        "def bruteforce(weights):\n",
        "    bestSolution, bestScore = None, float(\"inf\")\n",
        "    def is_promising(s, newrow):\n",
        "        newcol = len(s)\n",
        "        return all(newrow != row and newcol-col != abs(newrow-row)\n",
        "                   for col,row in enumerate(s))\n",
        "    N = len(weights)\n",
        "    def backtracking(s):\n",
        "        nonlocal bestSolution, bestScore\n",
        "        if len(s) == N:\n",
        "            current = evaluate(s,weights)\n",
        "            if current < bestScore:\n",
        "                bestScore = current\n",
        "                bestSolution = s\n",
        "        else:\n",
        "            for row in range(N):\n",
        "                if is_promising(s, row):\n",
        "                    backtracking(s+[row])\n",
        "    backtracking([])\n",
        "    return bestSolution, bestScore"
      ]
    },
    {
      "cell_type": "markdown",
      "metadata": {
        "id": "4M0jcvO-PpvL"
      },
      "source": [
        "Hagamos una prueba con un test pequeño:"
      ]
    },
    {
      "cell_type": "code",
      "execution_count": null,
      "metadata": {
        "colab": {
          "base_uri": "https://localhost:8080/"
        },
        "id": "7HKE103_PpvM",
        "outputId": "c75f961a-7e89-4ebf-8270-73bdbe667c76"
      },
      "outputs": [
        {
          "output_type": "execute_result",
          "data": {
            "text/plain": [
              "([2, 0, 3, 1], 93)"
            ]
          },
          "metadata": {},
          "execution_count": 128
        }
      ],
      "source": [
        "smalltest = np.array([[38, 48, 39, 40],\n",
        "                      [10, 24, 22, 10],\n",
        "                      [34, 12, 43, 38],\n",
        "                      [ 7, 12,  1, 40]]) \n",
        "bruteforce(smalltest)"
      ]
    },
    {
      "cell_type": "markdown",
      "metadata": {
        "id": "mh3X4noKPpvM"
      },
      "source": [
        "## Cotas optimistas\n",
        "\n",
        "La **cota optimista** es la suma de:\n",
        "\n",
        "- La parte **conocida**, correspondiente a la suma de los pesos de las casillas donde ya se ha situado una reina (una reina por cada columna). Es similar a la parte de evaluar pero sumando únicamente las reinas ya situadas:\n",
        "\n",
        "    ```\n",
        "    sum(weights[row,col] for col,row in enumerate(s))\n",
        "    ```\n",
        "\n",
        "- La parte **por completar**, que se calcula como la suma de una estimación optimista de la mejor manera de colocar una reina en cada una de las columnas restantes. Podemos plantear varias aproximaciones:\n",
        "      \n",
        "  1. Tomar el mínimo de cada columna sin importar si esa casilla está amenazada o no (en el código se llama `optimisticSimple`).\n",
        "  2. Considerar, para el mínimo, únicamente las filas *no amenazadas en horizontal*. Es decir, para cada una de las columnas donde todavía no hemos situado una reina, miramos el mínimo de las filas no elegidas ya por alguna reina ya situada en el tablero. Recuerda que, por construcción, no hay reinas amenazadas en la misma columna porque situamos una única reina por columna. Esta cota se denomina `optimisticHoriz`.  \n",
        "  3. La cota `optimisticEllaborate` considera tanto las amenazas horizontales como las diagonales por parte de reinas ya situadas en el tablero hacia reinas en columnas donde todavía no hemos decidido. Como es posible que en alguna columna no quede ninguna fila sin amenazar, en ese caso devolveremos el valor `float('inf')`.\n"
      ]
    },
    {
      "cell_type": "markdown",
      "metadata": {
        "id": "V3zeDfsaPpvN"
      },
      "source": [
        "## Representación de los estados y del conjunto de estados activos\n",
        "\n",
        "El conjunto de estados activos se representará mediante una cola de\n",
        "prioridad implementada como un *heap*. Los elementos a guardar serán tuplas\n",
        "donde el primer elemento será el valor de la cota\n",
        "optimista y el segundo la lista Python que representa una solución\n",
        "parcial.\n",
        "\n",
        "El conjunto de estados activos será una cola de prioridad implementada mediante un *minheap*:"
      ]
    },
    {
      "cell_type": "code",
      "execution_count": null,
      "metadata": {
        "id": "ocZWXdPuPpvN"
      },
      "outputs": [],
      "source": [
        "import heapq"
      ]
    },
    {
      "cell_type": "markdown",
      "metadata": {
        "id": "Ud7V1MybPpvN"
      },
      "source": [
        "El siguiente código ilustra las 2 funciones básicas para utilizar un `heapq` como cola de prioridad.\n",
        "\n",
        "Observa que guardamos tuplas donde el primer campo es valor de la cota optimista de modo que se extrae el de menor cota (estamos en un problema de minimización)."
      ]
    },
    {
      "cell_type": "code",
      "execution_count": null,
      "metadata": {
        "colab": {
          "base_uri": "https://localhost:8080/"
        },
        "id": "T5Cgqs6QPpvO",
        "outputId": "464d2f4d-2583-43d1-b713-b858bd3d607f"
      },
      "outputs": [
        {
          "output_type": "stream",
          "name": "stdout",
          "text": [
            "[(3, [2]), (10, [1]), (100, [0, 1])]\n",
            "3 [2]\n",
            "10 [1]\n",
            "100 [0, 1]\n"
          ]
        }
      ],
      "source": [
        "A = [] # conjunto vacío de estados activos, es una lista Python normal y corriente\n",
        "for score,s in [(10,[1]),(3,[2]),(100,[0,1])]:\n",
        "    heapq.heappush(A,(score,s)) # insertar i en la cola de prioridad A\n",
        "print(A) # no sale ordenado necesariamente, es un minheap...\n",
        "while len(A)>0:\n",
        "    score,s = heapq.heappop(A) # extraer el menor elemento de la cola de prioridad A\n",
        "    print(score,s)"
      ]
    },
    {
      "cell_type": "markdown",
      "metadata": {
        "id": "ahzUk3AcPpvP"
      },
      "source": [
        "## Esquema de ramificación y poda, funciones auxiliares\n",
        "\n",
        "Podemos implementar el esquema de ramificación y poda o *branch and bound* básicamente como en los apuntes de teoría. En particular, las funciones auxiliares utilizadas son:\n",
        "\n",
        "- `branch` recibe una solución parcial (un estado intermedio) y genera los estados hijo situando una reina en la siguiente columna. Debe evitar situar la nueva reina en aquellas filas que estén amenazadas por alguna de las reinas ya puestas en el tablero. Para realizar este código puedes inspirarte en el código de `is_promising` utilizado en la parte de backtracking.\n",
        "\n",
        "- `is_complete` se limita a decir si una solución parcial es solución o estado terminal. Se proporciona ya implementada puesto que es tan fácil como ver si la longitud de la solución parcial es igual al nº columnas (lado del tablero o `N`).\n",
        "\n",
        "- `optimisticSimple(s,weights, minWeights, parentCotaOpt)` calcula la cota optimista del estado `s`. Recibe la matriz de pesos del tablero, un vector con el menor peso de cada columna y la cota optimista del estado padre para poder realizar el cálculo de manera **incremental**.\n",
        "\n",
        "- `optimisticHoriz(s, weights, minWeights, parentCotaOpt)` calcula la cota optimsita de `s` teniendo en cuenta la mejor forma de llenar las columnas resultantes utilizando las filas que no hayan sido ocupadas ya por alguna reina cuando ésta hace movimientos en horizonal. Este score NO se puede calcular de forma incremental, por lo que los argumentos `minWeights` y `parentCotaOpt` se pasan únicamente para poder llamar igual (homogéneramente) a los 3 tipos de cota optimista.\n",
        "\n",
        "- `optimisticEllaborate(s, weights, minWeights, parentCotaOpt)` es parecida a la anterior pero ahora tiene en cuenta que las reinas ya situadas en el tablero también se podrían mover en diagonal. Tampoco se puede realizar de forma incremental.\n",
        "\n",
        "\n",
        "El bucle principal de ramificación y poda es como sigue:\n",
        "\n",
        "\n",
        "```python\n",
        "    ...\n",
        "    A = [] # empty priority queue\n",
        "    x = None\n",
        "    fx = float('inf')\n",
        "    while len(A)>0 and A[0][0] < fx:\n",
        "        s_cotaOpt, s = heapq.heappop(A)\n",
        "        for child in branch(s,N):\n",
        "            if is_complete(child): # si es terminal\n",
        "                # es factible (pq branch solo genera factibles)\n",
        "                # falta ver si mejora la mejor solucion en curso\n",
        "                child_score = evaluate(child,weights)\n",
        "                if child_score < fx:\n",
        "                    fx, x = child_score, child\n",
        "            else: # no es terminal\n",
        "                # lo metemos en el cjt de estados activos si supera\n",
        "                # la poda por cota optimista:\n",
        "                child_cotaOpt = optimistic(child,weights,minWeights,s_cotaOpt)\n",
        "                if child_cotaOpt < fx:\n",
        "                    heapq.heappush(A, (child_cotaOpt, child) )\n",
        "    return x,fx\n",
        "```\n",
        "\n",
        "Observa que utiliza la *poda implícita*.\n",
        "\n",
        "A continuación mostramos las actividades a realizar y posteriormente el código donde hay que implementar o codificar esas actividades."
      ]
    },
    {
      "cell_type": "markdown",
      "metadata": {
        "id": "Uf1u6TMiPpvP"
      },
      "source": [
        "<a id='actividad1'></a>"
      ]
    },
    {
      "cell_type": "markdown",
      "metadata": {
        "id": "treN4UxNPpvP"
      },
      "source": [
        "# Actividad 1: función de ramificación.\n",
        "\n",
        "Como ya se ha mencionado, ramificar es bastante sencillo porque la idea básica aparece en la función `is_promising` de backtracking.\n",
        "\n",
        "La función puede utilizar `yield` para ir devolviendo las soluciones una por una o bien puede calcularlas todas y devolver una lista con todas ellas.\n",
        "\n",
        "**Nota:** En este ejercicio y en los siguientes puedes utilizar los conjuntos Python (clase `set`) para ayudar en los cálculos. Utilizarlo es opcional, pero si se quiere utilizar una opción es definir un conjunto para guardar posiciones amenazadas en la diagonal y en la diagonal principal utilizando este esquema:\n",
        "\n",
        "```python\n",
        "# la diagonal ppal:\n",
        "#     c0 c1 c2 c3]\n",
        "#    -------------\n",
        "# r0 | 0| 1| 2| 3|\n",
        "#    -------------\n",
        "# r1 |-1| 0| 1| 2|\n",
        "#    -------------\n",
        "# r2 |-2|-1| 0| 1|\n",
        "#    -------------\n",
        "# r3 |-3|-2|-1| 0|\n",
        "#    -------------\n",
        "# esto se consigue para [r,c] con el valor c-r\n",
        "\n",
        "# la diagonal inversa:\n",
        "#     c0 c1 c2 c3\n",
        "#    -------------\n",
        "# r0 |-3|-2|-1|0 |\n",
        "#    -------------\n",
        "# r1 |-2|-1| 0| 1|\n",
        "#    -------------\n",
        "# r2 |-1| 0| 1| 2|\n",
        "#    -------------\n",
        "# r3 | 0| 1| 2| 3|\n",
        "#    -------------\n",
        "# se consigue con r+c-(N-1)\n",
        "\n",
        "```\n",
        "\n",
        "Para ello se crean los conjuntos:\n",
        "\n",
        "```python\n",
        "diag    = set()\n",
        "diaginv = set()\n",
        "```\n",
        "y se rellenan con un recorrido por la parte conocida del estado. Después se utilizan estos conjuntos para comprobar si las diagonales que nos interesan están libres o no. La alternativa es comprobarlo con un bucle anidado ¿qué coste tendría cada opción?\n",
        "\n",
        "Puedes completar aquí la función (es una función independiente, no es un método de ninguna clase ni una clausura (función local dentro de otra):"
      ]
    },
    {
      "cell_type": "code",
      "execution_count": null,
      "metadata": {
        "id": "1dt5Ip3EPpvQ"
      },
      "outputs": [],
      "source": [
        "\n",
        "\n",
        "def branch(s, N): # N es el lado del tablero\n",
        "    # COMPLETAR        \n",
        "    diag    = set()\n",
        "    diaginv = set()\n",
        "    rows    = set()\n",
        "\n",
        "    solutions = []\n",
        "\n",
        "    for col,row in enumerate(s):\n",
        "      rows.add(row)\n",
        "      diag.add(col-row)\n",
        "      diaginv.add(col+row-(N-1))\n",
        "    \n",
        "    col = len(s)\n",
        "    for row in range(N):\n",
        "      if col-row not in diag and col+row-(N-1) not in diaginv and row not in rows:\n",
        "        yield s+[row]\n",
        "    #newrow = len(s)\n",
        "    #return [s+[newcol] for newcol in range(N)\n",
        "    #            if newcol not in rows\n",
        "    #                and newcol-newrow not in diag\n",
        "    #                and newcol+ newrow - N + 1 not in diaginv]"
      ]
    },
    {
      "cell_type": "markdown",
      "metadata": {
        "id": "WAOkfTCGPpvQ"
      },
      "source": [
        "<a id='actividad2'></a>"
      ]
    },
    {
      "cell_type": "markdown",
      "metadata": {
        "id": "rDBaMLoPPpvQ"
      },
      "source": [
        "# Actividad 2: Cotas optimistas.\n",
        "\n",
        "Se trata de implementar las 3 cotas optimistas descritas más arriba.\n",
        "\n",
        "El tipo de cota optimista se especifica en la llamada principal y, en función del tipo elegido, se guarda una referencia a la función correspondiente en la variable `optimistic`. Es por ese motivo que las 2 últimas funciones reciben argumentos que realmente no les hacen falta pero que sí convienen a la primera de las cotas.\n"
      ]
    },
    {
      "cell_type": "code",
      "execution_count": null,
      "metadata": {
        "id": "yZKtkNV9PpvR"
      },
      "outputs": [],
      "source": [
        "def optimisticSimple(s, weights, minWeights, parentCotaOpt):\n",
        "    # cálculo de manera incremental:\n",
        "    # COMPLETAR        \n",
        "    return parentCotaOpt - minWeights[len(s)-1] + weights[s[-1],len(s)-1]\n",
        "\n",
        "    \n",
        "def optimisticHoriz(s, weights, minWeights, parentCotaOpt):    \n",
        "    N = weights.shape[0]\n",
        "    # parte conocida:\n",
        "    opt = sum(weights[row,col] for col,row in enumerate(s))\n",
        "    # cota optimista de la parte que nos queda por completar:\n",
        "    # COMPLETAR\n",
        "    rAtacadas = set()\n",
        "    for col,row in enumerate(s):\n",
        "      rAtacadas.add(row)\n",
        "\n",
        "    cota = opt\n",
        "    for i in range(len(s),N):\n",
        "      cota += min(weights[row,i] for row in set(range(N)) - rAtacadas)\n",
        "\n",
        "    return cota\n",
        "\n",
        "def optimisticEllaborate(s, weights, minWeights, parentCotaOpt):\n",
        "    # COMPLETAR\n",
        "    N = weights.shape[0]\n",
        "    # parte conocida:\n",
        "    opt = sum(weights[row,col] for col,row in enumerate(s))\n",
        "\n",
        "    diag    = set()\n",
        "    diaginv = set()\n",
        "    rows    = set()\n",
        "\n",
        "    for col,row in enumerate(s):\n",
        "      rows.add(row)\n",
        "      diag.add(col-row)\n",
        "      diaginv.add(col+row-(N-1))\n",
        "\n",
        "    cota = 0;\n",
        "    for col in range(len(s),N):\n",
        "        cota+=min([weights[row,col] for row in set(range(N))-rows\n",
        "                   if col-row not in diag and col+row-(N-1) not in diaginv],default = float(\"inf\"))\n",
        "\n",
        "    return opt+cota"
      ]
    },
    {
      "cell_type": "markdown",
      "metadata": {
        "id": "IjhdofXjPpvR"
      },
      "source": [
        "<a id='actividad3'></a>"
      ]
    },
    {
      "cell_type": "markdown",
      "metadata": {
        "id": "3Pg2gA1IPpvS"
      },
      "source": [
        "<a id='actividad3'></a>"
      ]
    },
    {
      "cell_type": "markdown",
      "metadata": {
        "id": "iAN0yhhzPpvS"
      },
      "source": [
        "# Actividad 3: Comprobar de que funciona\n",
        "\n",
        "El siguiente código hace uso de las funciones definidas anteriormente:"
      ]
    },
    {
      "cell_type": "code",
      "execution_count": null,
      "metadata": {
        "id": "EVP_3rlPPpvY"
      },
      "outputs": [],
      "source": [
        "def branchAndBound(weights,\n",
        "                   verbosity=0,\n",
        "                   optimistic=optimisticSimple):\n",
        "\n",
        "    # no haría falta pero por si acaso comprobamos que weights es una\n",
        "    # matriz numpy cuadrada y de costes positivos\n",
        "    assert(type(weights) is np.ndarray and len(weights.shape) == 2\n",
        "           and weights.shape[0] == weights.shape[1] and weights.dtype == np.int\n",
        "           and weights.min()>=0)\n",
        "    \n",
        "    N = weights.shape[0]\n",
        "\n",
        "    def is_complete(s):\n",
        "        return len(s)==N\n",
        "\n",
        "    minWeights = [weights[:,col].min() for col in range(N)]\n",
        "    A = [] # empty priority queue\n",
        "    x = None\n",
        "    fx = float(\"inf\") # valor inicial peor que cualquier solución\n",
        "\n",
        "    # anyadimos el estado inicial:\n",
        "    s = []\n",
        "    # calculamos el score del estado inicial \"[]\" de forma no\n",
        "    # incremental. Basta con sumar los valores de minWeights\n",
        "    opt = sum(minWeights)\n",
        "    heapq.heappush(A,(opt,s))\n",
        "\n",
        "    iterations = 0 # nº iteraciones\n",
        "    gen_states = 0 # nº estados generados\n",
        "    podas_opt  = 0 # nº podas por cota optimista\n",
        "    maxA = 0 # tamaño máximo alzanzado por lista de estados activos\n",
        "    # bucle principal de ramificacion y poda con PODA IMPLICITA\n",
        "    while len(A)>0 and A[0][0] < fx:\n",
        "        iterations += 1\n",
        "        lenA = len(A)\n",
        "        maxA = max(maxA,lenA)\n",
        "        score_s,s = heapq.heappop(A)\n",
        "        if verbosity > 1:\n",
        "            print(f\"Iter. %04d |A|={iterations:05} max|A|={lenA:05}\"+\n",
        "                  f\" fx={fx:04} len(s)={len(s):02} score_s={score_s:04}\")            \n",
        "        for child in branch(s, N):\n",
        "            gen_states += 1            \n",
        "            if is_complete(child): # si es terminal\n",
        "                # seguro que es factible\n",
        "                # falta ver si mejora la mejor solucion en curso\n",
        "                child_score = evaluate(child,weights)\n",
        "                if child_score < fx:\n",
        "                    if verbosity > 0:\n",
        "                        print(\"MEJORAMOS\",x,fx,\"CON\",child,child_score)\n",
        "                    x, fx = child, child_score\n",
        "            else: # no es terminal\n",
        "                # la función optimistic recibe como 3er argumento\n",
        "                # el score del padre para poder realizar el\n",
        "                # cálculo de manera incremental:\n",
        "                child_cotaOpt = optimistic(child,weights,minWeights,score_s)\n",
        "                # lo metemos en el cjt de estados activos si supera\n",
        "                # la poda por cota optimista:\n",
        "                if child_cotaOpt < fx:\n",
        "                    heapq.heappush(A,(child_cotaOpt,child))\n",
        "                else:\n",
        "                    podas_opt += 1\n",
        "    if verbosity > 0:\n",
        "        print(f\"{iterations} iteraciones, max|A|={maxA}, \"+\n",
        "              f\"estados_generados={gen_states}, tiposestados_podados={podas_opt}\")\n",
        "    return x,fx,{'iterations':iterations,'gen_states':gen_states,'podas_opt':podas_opt}"
      ]
    },
    {
      "cell_type": "markdown",
      "metadata": {
        "id": "WY9zB4mePpvY"
      },
      "source": [
        "Para comprobar que funciona correctamente compararemos el resultado de la función `branchAndBound` y la de `bruteforce`:"
      ]
    },
    {
      "cell_type": "code",
      "execution_count": null,
      "metadata": {
        "id": "PpYMnkZNPpvY"
      },
      "outputs": [],
      "source": [
        "test = np.array([\n",
        "       [222, 573,  21, 640, 863, 592, 310, 291],\n",
        "       [976, 692, 451, 379, 138, 653, 489, 776],\n",
        "       [537, 463, 199, 517, 114, 323, 611, 674],\n",
        "       [788, 700, 801, 556, 194, 188, 479, 230],\n",
        "       [914, 353, 680,  85, 124, 100, 383, 212],\n",
        "       [365,  67, 554, 672, 886, 817, 555,  50],\n",
        "       [229, 666, 547, 189, 837, 577, 536, 905],\n",
        "       [ 74, 659, 559,  72,  35, 689, 678, 494]])"
      ]
    },
    {
      "cell_type": "code",
      "execution_count": null,
      "metadata": {
        "id": "1jH_MD3TPpva",
        "outputId": "0b32b247-904b-4838-ae93-d7f17fb7ae5a",
        "colab": {
          "base_uri": "https://localhost:8080/"
        }
      },
      "outputs": [
        {
          "output_type": "execute_result",
          "data": {
            "text/plain": [
              "([7, 2, 0, 5, 1, 4, 6, 3], 2234)"
            ]
          },
          "metadata": {},
          "execution_count": 123
        }
      ],
      "source": [
        "bruteforce(test)"
      ]
    },
    {
      "cell_type": "code",
      "execution_count": null,
      "metadata": {
        "id": "csOYoNEfPpvc",
        "outputId": "196ea1d5-539d-4378-9aae-8cf760947110",
        "colab": {
          "base_uri": "https://localhost:8080/"
        }
      },
      "outputs": [
        {
          "output_type": "execute_result",
          "data": {
            "text/plain": [
              "([7, 2, 0, 5, 1, 4, 6, 3],\n",
              " 2234,\n",
              " {'gen_states': 816, 'iterations': 485, 'podas_opt': 168})"
            ]
          },
          "metadata": {},
          "execution_count": 136
        }
      ],
      "source": [
        "branchAndBound(test)"
      ]
    },
    {
      "cell_type": "markdown",
      "metadata": {
        "id": "JweJO7QQPpvd"
      },
      "source": [
        "Veamos que funciona con las otras dos cotas optimistas:"
      ]
    },
    {
      "cell_type": "code",
      "execution_count": null,
      "metadata": {
        "id": "Re9GePrwPpvd",
        "outputId": "5f37950b-f625-4d0b-8cc5-972e2a37bac3",
        "colab": {
          "base_uri": "https://localhost:8080/"
        }
      },
      "outputs": [
        {
          "output_type": "execute_result",
          "data": {
            "text/plain": [
              "([7, 2, 0, 5, 1, 4, 6, 3],\n",
              " 2234,\n",
              " {'gen_states': 535, 'iterations': 277, 'podas_opt': 0})"
            ]
          },
          "metadata": {},
          "execution_count": 135
        }
      ],
      "source": [
        "branchAndBound(test, optimistic=optimisticHoriz)"
      ]
    },
    {
      "cell_type": "code",
      "execution_count": null,
      "metadata": {
        "id": "PvHg400oPpve",
        "outputId": "ed6e1e23-39e9-441b-cfa1-6a7c5cf26a97",
        "colab": {
          "base_uri": "https://localhost:8080/"
        }
      },
      "outputs": [
        {
          "output_type": "execute_result",
          "data": {
            "text/plain": [
              "([7, 2, 0, 5, 1, 4, 6, 3],\n",
              " 2234,\n",
              " {'gen_states': 293, 'iterations': 110, 'podas_opt': 35})"
            ]
          },
          "metadata": {},
          "execution_count": 144
        }
      ],
      "source": [
        "branchAndBound(test, optimistic=optimisticEllaborate)"
      ]
    },
    {
      "cell_type": "markdown",
      "metadata": {
        "id": "rsw-riUVPpve"
      },
      "source": [
        "Las 4 ejecuciones de arriba deben de dar el mismo score. Normalmente también dan el mismo posicionamiento de las reinas, pero recuerda que en problemas de optimización podría haber empates."
      ]
    },
    {
      "cell_type": "markdown",
      "metadata": {
        "id": "gB5wkZg0Ppve"
      },
      "source": [
        "<a id='actividad4 '></a>"
      ]
    },
    {
      "cell_type": "markdown",
      "metadata": {
        "id": "0QihgvOQPpvf"
      },
      "source": [
        "# Actividad 4. Estudio experimental\n",
        "\n",
        "La última actividad consiste en comparar empíricamente las tres cotas.\n",
        "\n",
        "Está claro que la versión `bruteforce` (backtracking enumerando **todas** las soluciones factibles para quedarnos con la mejor) explota rápidamente y no tiene interés, aun así no cuesta nada probarla hasta talla 12 (para talla 14 sube a más de 10 minutos).\n",
        "\n",
        "La comparación de los 3 tipos de cota optimista permite ver cuál se comporta mejor. Dejamos como ejercicio que analices el resultado comparando los tiempos de ejecución y el número de estados generados y podados.\n"
      ]
    },
    {
      "cell_type": "code",
      "execution_count": null,
      "metadata": {
        "id": "ywoAskpGPpvf"
      },
      "outputs": [],
      "source": [
        "import time"
      ]
    },
    {
      "cell_type": "code",
      "execution_count": null,
      "metadata": {
        "id": "ke-ELD8SPpvf",
        "outputId": "4cef900b-2562-44b0-9f6e-48cf6062da80",
        "colab": {
          "base_uri": "https://localhost:8080/"
        }
      },
      "outputs": [
        {
          "output_type": "stream",
          "name": "stdout",
          "text": [
            "N= 8   0.03s\n",
            "N= 9   0.12s\n",
            "N=10   0.62s\n",
            "N=11   3.25s\n",
            "N=12  18.95s\n"
          ]
        }
      ],
      "source": [
        "for N in [8,9,10,11,12]:\n",
        "    board = genera_instancia(N)\n",
        "    t1 = time.process_time()\n",
        "    sol1 = bruteforce(board)\n",
        "    t2 = time.process_time()\n",
        "    print(f'N={N:2} {t2-t1:6.2f}s')\n",
        "    \n",
        "# ATENCIÓN: en mi ordenador, una ejecución concreta ha dado:\n",
        "# N= 8   0.02s\n",
        "# N= 9   0.11s\n",
        "# N=10   0.48s\n",
        "# N=11   2.61s\n",
        "# N=12  15.18s\n",
        "# N=13  91.55s\n",
        "# N=14 616.46s <- he estado a punto de pararlo :|\n",
        "# dejamos N hasta 12, ejecuciones distintas pueden variar ligeramente en los tiempos...."
      ]
    },
    {
      "cell_type": "code",
      "execution_count": null,
      "metadata": {
        "id": "3zh14MHjPpvg",
        "colab": {
          "base_uri": "https://localhost:8080/"
        },
        "outputId": "dd404252-962b-4971-ff2c-48c308a89b9c"
      },
      "outputs": [
        {
          "output_type": "stream",
          "name": "stdout",
          "text": [
            "N= 8 simple       0.00s\n",
            "N= 8 horiz        0.01s\n",
            "N= 8 ellaborate   0.00s\n",
            "N= 9 simple       0.01s\n",
            "N= 9 horiz        0.02s\n",
            "N= 9 ellaborate   0.01s\n",
            "N=10 simple       0.02s\n",
            "N=10 horiz        0.04s\n",
            "N=10 ellaborate   0.03s\n",
            "N=11 simple       0.26s\n",
            "N=11 horiz        0.32s\n",
            "N=11 ellaborate   0.20s\n",
            "N=12 simple       1.35s\n",
            "N=12 horiz        2.11s\n",
            "N=12 ellaborate   0.79s\n",
            "N=13 simple       1.38s\n",
            "N=13 horiz        3.85s\n",
            "N=13 ellaborate   1.70s\n",
            "N=14 simple       3.43s\n",
            "N=14 horiz        6.47s\n",
            "N=14 ellaborate   2.38s\n",
            "N=15 simple       5.59s\n",
            "N=15 horiz       13.80s\n",
            "N=15 ellaborate   4.93s\n",
            "N=16 simple      12.55s\n",
            "N=16 horiz       21.61s\n",
            "N=16 ellaborate   5.68s\n",
            "N=17 simple      36.62s\n",
            "N=17 horiz       73.57s\n",
            "N=17 ellaborate  15.80s\n",
            "N=18 simple      50.52s\n",
            "N=18 horiz       88.34s\n",
            "N=18 ellaborate  23.62s\n"
          ]
        }
      ],
      "source": [
        "tallas = [8,9,10,11,12,13,14,15,16,17,18] # si es muy lento elimina los valores más altos...\n",
        "\n",
        "tipos_cota = (('simple',optimisticSimple),\n",
        "                       ('horiz',optimisticHoriz),\n",
        "                       ('ellaborate',optimisticEllaborate))\n",
        "\n",
        "dic_time = {}\n",
        "dic_iterations = {}\n",
        "dic_gen_states = {}\n",
        "dic_podas_opt = {}\n",
        "\n",
        "for nombre,funcion in tipos_cota:\n",
        "    dic_time[nombre] = []\n",
        "    dic_iterations[nombre] = []\n",
        "    dic_gen_states[nombre] = []\n",
        "    dic_podas_opt[nombre] = []\n",
        "\n",
        "# MUY IMPORTANTE usar el mismo tablero para las 3 cotas, por eso generamos un tablero\n",
        "# y por eso el doble bucle se organiza así...\n",
        "for N in tallas:\n",
        "    board = genera_instancia(N)\n",
        "    for nombre,funcion in tipos_cota:    \n",
        "        t1 = time.process_time()\n",
        "        x,fx,stats = branchAndBound(board,optimistic=funcion)\n",
        "        t2 = time.process_time()\n",
        "        print(f'N={N:2} {nombre:10} {t2-t1:6.2f}s')\n",
        "        dic_time[nombre].append(t2-t1)\n",
        "        dic_iterations[nombre].append(stats['iterations'])\n",
        "        dic_gen_states[nombre].append(stats['gen_states'])\n",
        "        dic_podas_opt[nombre].append(stats['podas_opt'])\n",
        "        "
      ]
    },
    {
      "cell_type": "code",
      "execution_count": null,
      "metadata": {
        "id": "O7tBfIVQPpvg"
      },
      "outputs": [],
      "source": [
        "import matplotlib.pyplot as plt"
      ]
    },
    {
      "cell_type": "markdown",
      "metadata": {
        "id": "NaUUFoPcPpvg"
      },
      "source": [
        "## Comparación de tiempos"
      ]
    },
    {
      "cell_type": "code",
      "execution_count": null,
      "metadata": {
        "id": "ojg6P9EhPpvh",
        "colab": {
          "base_uri": "https://localhost:8080/",
          "height": 390
        },
        "outputId": "a1a8a624-46da-4e7a-ae65-9ce760413d14"
      },
      "outputs": [
        {
          "output_type": "display_data",
          "data": {
            "image/png": "[encoded data removed]",
            "text/plain": [
              "<Figure size 576x432 with 1 Axes>"
            ]
          },
          "metadata": {
            "needs_background": "light"
          }
        }
      ],
      "source": [
        "plt.figure(figsize=(8,6))\n",
        "for nombre,funcion in tipos_cota:\n",
        "    plt.plot(tallas, dic_time[nombre], label=nombre)\n",
        "plt.legend(loc='upper left')\n",
        "plt.title('Tiempo de ejecución')\n",
        "plt.show()"
      ]
    },
    {
      "cell_type": "markdown",
      "metadata": {
        "id": "4w0KzV4iPpvh"
      },
      "source": [
        "# Número de iteraciones"
      ]
    },
    {
      "cell_type": "code",
      "execution_count": null,
      "metadata": {
        "id": "U_8mqFcsPpvh",
        "colab": {
          "base_uri": "https://localhost:8080/",
          "height": 390
        },
        "outputId": "b144994b-8034-4031-8c04-94770380d7f8"
      },
      "outputs": [
        {
          "output_type": "display_data",
          "data": {
            "image/png": "[encoded data removed]",
            "text/plain": [
              "<Figure size 576x432 with 1 Axes>"
            ]
          },
          "metadata": {
            "needs_background": "light"
          }
        }
      ],
      "source": [
        "plt.figure(figsize=(8,6))\n",
        "\n",
        "for nombre,funcion in tipos_cota:\n",
        "    plt.plot(tallas, dic_iterations[nombre], label=nombre)\n",
        "plt.legend(loc='upper left')\n",
        "plt.title('Número de iteraciones')\n",
        "plt.show()"
      ]
    },
    {
      "cell_type": "markdown",
      "metadata": {
        "id": "RA7zGZfhPpvi"
      },
      "source": [
        "## Número de estados generados"
      ]
    },
    {
      "cell_type": "code",
      "execution_count": null,
      "metadata": {
        "id": "50h3YUUBPpvi",
        "colab": {
          "base_uri": "https://localhost:8080/",
          "height": 390
        },
        "outputId": "b28ca498-23c7-4560-e9ae-cec87432d620"
      },
      "outputs": [
        {
          "output_type": "display_data",
          "data": {
            "image/png": "[encoded data removed]",
            "text/plain": [
              "<Figure size 576x432 with 1 Axes>"
            ]
          },
          "metadata": {
            "needs_background": "light"
          }
        }
      ],
      "source": [
        "plt.figure(figsize=(8,6))\n",
        "\n",
        "for nombre,funcion in tipos_cota:\n",
        "    plt.plot(tallas, dic_gen_states[nombre], label=nombre)\n",
        "plt.legend(loc='upper left')\n",
        "plt.title('Número de estados generados')\n",
        "plt.show()"
      ]
    },
    {
      "cell_type": "markdown",
      "metadata": {
        "id": "P550AUrcPpvi"
      },
      "source": [
        "## Número de estados podados"
      ]
    },
    {
      "cell_type": "code",
      "execution_count": null,
      "metadata": {
        "id": "taT03VRGPpvj",
        "colab": {
          "base_uri": "https://localhost:8080/",
          "height": 390
        },
        "outputId": "fc40afe8-c3a1-4894-b5cc-8be590fd2b63"
      },
      "outputs": [
        {
          "output_type": "display_data",
          "data": {
            "image/png": "[encoded data removed]",
            "text/plain": [
              "<Figure size 576x432 with 1 Axes>"
            ]
          },
          "metadata": {
            "needs_background": "light"
          }
        }
      ],
      "source": [
        "plt.figure(figsize=(8,6))\n",
        "\n",
        "for nombre,funcion in tipos_cota:\n",
        "    plt.plot(tallas, dic_podas_opt[nombre], label=nombre)\n",
        "plt.legend(loc='upper left')\n",
        "plt.title('Número de estados podados')\n",
        "plt.show()"
      ]
    },
    {
      "cell_type": "markdown",
      "metadata": {
        "id": "7ltZ8irwPpvj"
      },
      "source": [
        "## Cuestión: ¿Qué se puede concluir de las gráficas anteriores?\n",
        "\n",
        "Describe brevemente qué se puede concluir de los resultados anteriores, en particular \n",
        "\n",
        "- ¿Aumenta de manera monótona el tiempo de ejecución o hay instancias que son particularmente más difíciles que otras de talla mayor?\n",
        "- Es más rápida una cota optimista que de lugar a un número menor de estados generados?\n"
      ]
    },
    {
      "cell_type": "markdown",
      "metadata": {
        "id": "1EvZZbVvPpvk"
      },
      "source": [
        "\n",
        "\n",
        "```\n",
        "# Tiene formato de código\n",
        "```\n",
        "\n",
        "-Todo parce indicar que aquellas instancias impares tienen un impacto sobre el tiempo de ejecución mayor que las instancias pares.\n",
        "\n",
        "-Una cota debidamente pensada y que realice una busqueda informada basandose en la información del problema reduce de manera significativa el numero estados recorridos y esto repercute en el tiempo de ejeución como bien se puede ver en la comparación de tiempos entre la cota ellaborate y la simple."
      ]
    }
  ],
  "metadata": {
    "kernelspec": {
      "display_name": "Python 3",
      "language": "python",
      "name": "python3"
    },
    "language_info": {
      "codemirror_mode": {
        "name": "ipython",
        "version": 3
      },
      "file_extension": ".py",
      "mimetype": "text/x-python",
      "name": "python",
      "nbconvert_exporter": "python",
      "pygments_lexer": "ipython3",
      "version": "3.7.4"
    },
    "colab": {
      "name": "practicaRP_1_.ipynb",
      "provenance": [],
      "collapsed_sections": []
    }
  },
  "nbformat": 4,
  "nbformat_minor": 0
}